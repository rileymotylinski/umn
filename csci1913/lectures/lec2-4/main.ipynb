{
 "cells": [
  {
   "cell_type": "markdown",
   "id": "700797a5",
   "metadata": {},
   "source": [
    "### Lecture 2\n",
    "---\n",
    "- you can render markdown cells via `Ctrl+Enter`"
   ]
  },
  {
   "cell_type": "code",
   "execution_count": null,
   "id": "e6fbfe15",
   "metadata": {},
   "outputs": [
    {
     "data": {
      "text/plain": [
       "complex"
      ]
     },
     "execution_count": 19,
     "metadata": {},
     "output_type": "execute_result"
    }
   ],
   "source": [
    "\n",
    "first_name = \"Riley\" # snake case for variables\n",
    "round(3/4,2) # rounding numbers to 2 decimal places\n",
    "type(3+3j) # this is a complex type in python\n"
   ]
  },
  {
   "cell_type": "markdown",
   "id": "904aed96",
   "metadata": {},
   "source": [
    "#### Jupyter Notebooks\n",
    "either all the output of the script is rendered or the last run line\n",
    "e.g."
   ]
  },
  {
   "cell_type": "code",
   "execution_count": null,
   "id": "01dbc110",
   "metadata": {},
   "outputs": [
    {
     "data": {
      "text/plain": [
       "str"
      ]
     },
     "execution_count": 20,
     "metadata": {},
     "output_type": "execute_result"
    }
   ],
   "source": [
    "type(\"This will output even though there is no explicit print statment\")"
   ]
  },
  {
   "cell_type": "code",
   "execution_count": null,
   "id": "8673fb90",
   "metadata": {},
   "outputs": [
    {
     "name": "stdout",
     "output_type": "stream",
     "text": [
      "this\n",
      "will\n",
      "print\n",
      "every\n",
      "single\n",
      "line\n"
     ]
    }
   ],
   "source": [
    "print(\"this\")\n",
    "print(\"will\")\n",
    "print(\"print\")\n",
    "print(\"every\")\n",
    "print(\"single\")\n",
    "print(\"line\")"
   ]
  },
  {
   "cell_type": "markdown",
   "id": "8eec3a4f",
   "metadata": {},
   "source": [
    "##### Doc String"
   ]
  },
  {
   "cell_type": "code",
   "execution_count": null,
   "id": "2fdd6017",
   "metadata": {},
   "outputs": [],
   "source": [
    "def double(n):\n",
    "    '''\n",
    "    doubles the value of the argument, n\n",
    "    Args:\n",
    "        n -- integer or float\n",
    "    Return:\n",
    "        integer or float\n",
    "    '''\n",
    "\n",
    "    return n * 2\n",
    "\n",
    "# now we can get info about the function!\n",
    "print(double.__doc__)"
   ]
  },
  {
   "cell_type": "markdown",
   "id": "dde95877",
   "metadata": {},
   "source": [
    "#### Comparisons\n",
    "---"
   ]
  },
  {
   "cell_type": "code",
   "execution_count": null,
   "id": "bbdcc141",
   "metadata": {},
   "outputs": [],
   "source": [
    "\"Riley\" < \"Motylinski\" # compares in alphabetical order"
   ]
  },
  {
   "cell_type": "markdown",
   "id": "254930d2",
   "metadata": {},
   "source": [
    "#### If name is main...."
   ]
  },
  {
   "cell_type": "code",
   "execution_count": null,
   "id": "401a3dab",
   "metadata": {},
   "outputs": [],
   "source": [
    "# \"__main__\" is the string stored in __main__\n",
    "# run when parts of code are in development\n",
    "if __name__ == \"__main__\":\n",
    "    # only runs if the script is being run directly\n",
    "    print(\"hello\")"
   ]
  },
  {
   "cell_type": "code",
   "execution_count": 6,
   "id": "105d876c",
   "metadata": {},
   "outputs": [
    {
     "data": {
      "text/plain": [
       "0"
      ]
     },
     "execution_count": 6,
     "metadata": {},
     "output_type": "execute_result"
    }
   ],
   "source": [
    "import random\n",
    "\n",
    "random.randint(0,5) # [0,5]\n",
    "random.randrange(0,5) # [0,5)"
   ]
  }
 ],
 "metadata": {
  "kernelspec": {
   "display_name": "venv (3.13.5)",
   "language": "python",
   "name": "python3"
  },
  "language_info": {
   "codemirror_mode": {
    "name": "ipython",
    "version": 3
   },
   "file_extension": ".py",
   "mimetype": "text/x-python",
   "name": "python",
   "nbconvert_exporter": "python",
   "pygments_lexer": "ipython3",
   "version": "3.13.5"
  }
 },
 "nbformat": 4,
 "nbformat_minor": 5
}
