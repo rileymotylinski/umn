{
 "cells": [
  {
   "cell_type": "markdown",
   "id": "e80a39d3",
   "metadata": {},
   "source": [
    "# Sequence Nesting"
   ]
  },
  {
   "cell_type": "code",
   "execution_count": null,
   "id": "8ffaa81e",
   "metadata": {},
   "outputs": [
    {
     "name": "stdout",
     "output_type": "stream",
     "text": [
      "[[1], [2], [3], [4]]\n"
     ]
    }
   ],
   "source": [
    "from copy import deepcopy\n",
    "\n",
    "list = [[1],[2],[3],[4]]\n",
    "\n",
    "new_list = deepcopy(list)\n",
    "\n",
    "print(new_list) # completely new list"
   ]
  },
  {
   "cell_type": "markdown",
   "id": "e250c3bf",
   "metadata": {},
   "source": [
    "# Dictionaries\n",
    "- there are ways of accessing dictionaries w/ and w/o throwing an error\n"
   ]
  },
  {
   "cell_type": "markdown",
   "id": "b9af387a",
   "metadata": {},
   "source": [
    "# Sets \n",
    "- fast\n",
    "- not ordered\n",
    "- immutable"
   ]
  }
 ],
 "metadata": {
  "kernelspec": {
   "display_name": "venv (3.13.5)",
   "language": "python",
   "name": "python3"
  },
  "language_info": {
   "codemirror_mode": {
    "name": "ipython",
    "version": 3
   },
   "file_extension": ".py",
   "mimetype": "text/x-python",
   "name": "python",
   "nbconvert_exporter": "python",
   "pygments_lexer": "ipython3",
   "version": "3.13.5"
  }
 },
 "nbformat": 4,
 "nbformat_minor": 5
}
