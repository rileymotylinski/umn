{
 "cells": [
  {
   "cell_type": "code",
   "execution_count": null,
   "id": "3919f3e0",
   "metadata": {},
   "outputs": [],
   "source": [
    "fruit = [\"apple\", \"banana\", \"pineapple\"]\n",
    "same_fruit = fruit\n",
    "\n",
    "\n",
    "assert id(same_fruit) == id(fruit) # True!!!\n",
    "\n",
    "# copy two ways\n",
    "fruit_copy = fruit.copy()\n",
    "fruit_copy = fruit[:]\n",
    "\n",
    "# modifies in place\n",
    "fruit.sort()"
   ]
  }
 ],
 "metadata": {
  "kernelspec": {
   "display_name": "venv (3.13.5)",
   "language": "python",
   "name": "python3"
  },
  "language_info": {
   "codemirror_mode": {
    "name": "ipython",
    "version": 3
   },
   "file_extension": ".py",
   "mimetype": "text/x-python",
   "name": "python",
   "nbconvert_exporter": "python",
   "pygments_lexer": "ipython3",
   "version": "3.13.5"
  }
 },
 "nbformat": 4,
 "nbformat_minor": 5
}
