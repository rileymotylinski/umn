{
 "cells": [
  {
   "cell_type": "markdown",
   "id": "e4acfaf8",
   "metadata": {},
   "source": [
    "# Sorting\n",
    "- in place; modify list\n",
    "- out of place; sort in second, new list\n",
    "-`sorted(numbers)` creates new list\n",
    "- `numbers.sort()` in place sorting"
   ]
  },
  {
   "cell_type": "markdown",
   "id": "2f45d82b",
   "metadata": {},
   "source": [
    "Psuedo code\n",
    "\n",
    "for el in numbers:\n",
    "    for second_el in numbers:\n",
    "        if second_el "
   ]
  },
  {
   "cell_type": "markdown",
   "id": "59caf613",
   "metadata": {},
   "source": [
    "### Types of sorting algoirthms\n",
    "#### Comparison\n",
    "- comparing values of the list\n",
    "#### Non-comparison\n",
    "- using information about the values to make changes"
   ]
  },
  {
   "cell_type": "markdown",
   "id": "9fd1e43f",
   "metadata": {},
   "source": [
    "#### Selection sort\n",
    "- repeatedly ifnding the minimum value from i:len(list)\n",
    "- search via j\n",
    "swap i,j"
   ]
  },
  {
   "cell_type": "markdown",
   "id": "7d953268",
   "metadata": {},
   "source": [
    "#### Bogo sort\n",
    "- random shuffling until correct order"
   ]
  },
  {
   "cell_type": "code",
   "execution_count": 6,
   "id": "663bfd0d",
   "metadata": {},
   "outputs": [
    {
     "name": "stdout",
     "output_type": "stream",
     "text": [
      "[1, 2, 5, 9]\n"
     ]
    }
   ],
   "source": [
    "import random\n",
    "\n",
    "def is_sorted(l):\n",
    "    for i in range(len(l)-1):\n",
    "        if l[i] > l[i+1]:\n",
    "            return False\n",
    "    return True\n",
    "\n",
    "def bogo_sort(l):\n",
    "    while not is_sorted(l):\n",
    "        random.shuffle(l)\n",
    "\n",
    "l = [1,5,9,2]\n",
    "bogo_sort(l)\n",
    "print(l)"
   ]
  }
 ],
 "metadata": {
  "kernelspec": {
   "display_name": "venv (3.13.5)",
   "language": "python",
   "name": "python3"
  },
  "language_info": {
   "codemirror_mode": {
    "name": "ipython",
    "version": 3
   },
   "file_extension": ".py",
   "mimetype": "text/x-python",
   "name": "python",
   "nbconvert_exporter": "python",
   "pygments_lexer": "ipython3",
   "version": "3.13.5"
  }
 },
 "nbformat": 4,
 "nbformat_minor": 5
}
