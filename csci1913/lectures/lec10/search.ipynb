{
 "cells": [
  {
   "cell_type": "markdown",
   "id": "7a99c5ff",
   "metadata": {},
   "source": [
    "# Searching\n",
    "\n",
    "#### problem description\n",
    "- given an unsorted colletion and a vlue return the index of the value if value is found in collecion, else -1\n",
    "#### Specific problem\n",
    "- finding a value somewhere in a list\n",
    "\n",
    "## Binary Search\n",
    "- ordered list\n",
    "- smallest to largest\n",
    "Look in the middle of the list\n",
    "- larger => look to right\n",
    "- smaller => look to left"
   ]
  },
  {
   "cell_type": "code",
   "execution_count": null,
   "id": "7f6bb779",
   "metadata": {},
   "outputs": [],
   "source": [
    "def binary_search(l, n):\n",
    "    low = 0\n",
    "    high = len(l) - 1\n",
    "    mid = (low + high) / 2\n",
    "\n",
    "    # low = mid + 1\n",
    "    "
   ]
  }
 ],
 "metadata": {
  "kernelspec": {
   "display_name": "venv (3.13.5)",
   "language": "python",
   "name": "python3"
  },
  "language_info": {
   "name": "python",
   "version": "3.13.5"
  }
 },
 "nbformat": 4,
 "nbformat_minor": 5
}
