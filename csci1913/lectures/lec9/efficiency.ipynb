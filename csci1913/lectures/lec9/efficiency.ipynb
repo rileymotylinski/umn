{
 "cells": [
  {
   "cell_type": "markdown",
   "id": "966b89f5",
   "metadata": {},
   "source": [
    "## Efficiency\n",
    "### Level 1\n",
    "Specific problem -> scpeific code\n",
    "\n",
    "### Level 2\n",
    "Problem description - > specific problem -> pseudo code -> specific code\n",
    "- language agnostic\n",
    "\n",
    "Problem descripition - > specific problem -> generic problem -> general algorithm -> pseudo code -> specific code\n",
    "\n",
    "### Algorithm\n",
    "- Generic problem\n",
    "- algorithm - ordered series of computations to accomplish. thinking NOT code\n"
   ]
  },
  {
   "cell_type": "code",
   "execution_count": null,
   "id": "37a9b3f0",
   "metadata": {
    "vscode": {
     "languageId": "plaintext"
    }
   },
   "outputs": [],
   "source": []
  }
 ],
 "metadata": {
  "language_info": {
   "name": "python"
  }
 },
 "nbformat": 4,
 "nbformat_minor": 5
}
