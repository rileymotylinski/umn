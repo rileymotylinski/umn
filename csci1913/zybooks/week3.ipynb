{
 "cells": [
  {
   "cell_type": "markdown",
   "id": "bbbb9f63",
   "metadata": {},
   "source": [
    "# 9.1 Algorithms + Complexity\n",
    "---\n",
    "Computational complexity:\n",
    "- time \n",
    "- memory\n",
    "\n",
    "How to:\n",
    "- best (min possible opeartions)/worst (max possible operations) cases\n",
    "T(N) - runtime complexity\n",
    "O(N) - memory complexity, where N is the input data. Must always be a variable\n",
    "S(N) - Space complexity - usually CN + K wher k is a ocnstant for the variables inside the function"
   ]
  },
  {
   "cell_type": "markdown",
   "id": "af9a9d92",
   "metadata": {},
   "source": [
    "# 9.2 Constant Time Operations"
   ]
  },
  {
   "cell_type": "markdown",
   "id": "3af02ea0",
   "metadata": {},
   "source": [
    "- rather than measure in time of literal speed for the algorithms, we measure in the number of constant time operations to more objectively get an understanding of the efficiency\n",
    "\n",
    "### What is a constant time operation?\n",
    "- an operation that always operates in the same amount of time, regardless of operator\n",
    "- e.g. multiplication, assignment, comparison, reading an array element\n",
    "- NOT loops, concatentation of higher dimension variables, etc.\n",
    "- constnat time operations can be combine (mathamatically, a constnat + constant is still a constant)"
   ]
  },
  {
   "cell_type": "markdown",
   "id": "c644b7d4",
   "metadata": {},
   "source": [
    "# 9.3 Big O Notation\n",
    "- how  function behaves relative to the input size\n",
    "### Rules\n",
    "- if f(x) is a sum of several terms, the highest order term (the one with the fastest growth rate) is kept while the otthers are discarded\n",
    "- if f(x) has a term that is a product of several factors, constants are omitted\n",
    "- kind of like limits. Ask yourself: \"Will this affect the final growth rate?\"\n",
    "\n",
    "- c * O(f(x)) &rarr; O(f(x))\n",
    "- c + O(f(x)) &rarr; O(f(x))\n",
    "- g(x) * O(f(x)) &rarr; O(g(x)·O(f(x))) \n",
    "- g(x) + O(f(x)) &rarr; O(g(x) + O(f(x))) \n",
    "- IGNORE CONSTANTS!!!"
   ]
  },
  {
   "cell_type": "markdown",
   "id": "354bdc27",
   "metadata": {},
   "source": [
    "# 9.4 Algorithm Analysis\n",
    "\n",
    "- f(n) gives the number of operations performed on data N, the O(N) gives the worst case scenario for f\n",
    "- simply count the non constant operations to efficiently analyze the algorithm\n",
    "#### Nested Iteration\n",
    "- how many times does the outer loop run * how many times does the inner loop run\n",
    "(n-1)+(n-2)+...+2+1 = O(n^2)\n",
    "- for loops typically are O(N), unless window is somehow modified"
   ]
  },
  {
   "cell_type": "markdown",
   "id": "900936e7",
   "metadata": {},
   "source": [
    "# 9.5 Analyzing Recursive Algorithms\n",
    "- What is the recurrence relation?\n",
    "- Complexity determined but the number of calls made\n",
    "    - better becauwe not inherently O(N)?\n",
    "\n",
    "#### Recursion Trees\n",
    "- depth of tree is the complexity of the algorithm\n",
    "- how is the input size reduced? That determines depth/complexity of algorithm"
   ]
  }
 ],
 "metadata": {
  "language_info": {
   "name": "python"
  }
 },
 "nbformat": 4,
 "nbformat_minor": 5
}
