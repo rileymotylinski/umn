{
 "cells": [
  {
   "cell_type": "markdown",
   "id": "c0d8f832",
   "metadata": {},
   "source": [
    "# Bubble Sort\n",
    "- swaps elements in adjacent positions\n",
    "- O(n^2)\n",
    "- fastest sort  is O(nlogn)\n",
    "- average case "
   ]
  },
  {
   "cell_type": "code",
   "execution_count": null,
   "id": "1f2ead5f",
   "metadata": {},
   "outputs": [
    {
     "name": "stdout",
     "output_type": "stream",
     "text": [
      "[1, 2, 3, 6, 9, 10]\n"
     ]
    }
   ],
   "source": [
    "arr = [9,3,1,6,10,2]\n",
    "\n",
    "def swap(l, i, j):\n",
    "    temp = l[i]\n",
    "    l[i] = l[j]\n",
    "    l[j] = temp\n",
    "\n",
    "# take element at i position\n",
    "# if i > i + 1 -> swap i and i + i\n",
    "\n",
    "# for each eleemnt in array\n",
    "for i in range(len(arr) - 1):\n",
    "    # compare to each other element in the array\n",
    "    # j tracks current largest element\n",
    "    # should be len(arr) - 1 - i b/c i is the sorted part of the array\n",
    "    for j in range(len(arr) - 1 - i):\n",
    "        if arr[j] > arr[j+1]:\n",
    "            swap(arr,j, j+1)\n",
    "\n",
    "print(arr)\n",
    "# essentially repeatedly finding the max, then floating it to the top"
   ]
  },
  {
   "cell_type": "markdown",
   "id": "a3309131",
   "metadata": {},
   "source": [
    "# Selection Sort\n",
    "- input list is divided into sort vs. unsorted\n",
    "- repeatedly finding the smallest element and moving it to the end of the array\n",
    "- O(n^2)"
   ]
  },
  {
   "cell_type": "code",
   "execution_count": null,
   "id": "920777b3",
   "metadata": {},
   "outputs": [
    {
     "name": "stdout",
     "output_type": "stream",
     "text": [
      "[1, 2, 3, 6, 9, 10]\n"
     ]
    }
   ],
   "source": [
    "arr = [9,3,1,6,10,2]\n",
    "\n",
    "# wrong\n",
    "def selection_sort(l):\n",
    "    for i in range(len(l) - 1):\n",
    "        smallest_index = i\n",
    "        # find smallest element in l[i+1 : len(l)-1]\n",
    "        for j in range(i+1,len(l)):\n",
    "            # comparing it against the inital i value, should be updating smallest_index when you find a value smaller\n",
    "            if l[j] < l[i]:\n",
    "            # corrected : if l[j] < l[smallest]:\n",
    "                smallest_index = j\n",
    "        # swap element into smallest array\n",
    "        swap(l,i,smallest_index)\n",
    "    \n",
    "    \n",
    "selection_sort(arr)\n",
    "print(arr)"
   ]
  },
  {
   "cell_type": "markdown",
   "id": "86032905",
   "metadata": {},
   "source": []
  },
  {
   "cell_type": "markdown",
   "id": "ce4cb086",
   "metadata": {},
   "source": [
    "# Insertion Sort\n",
    "- treats as two parts of the list (sorted/unsorted)\n",
    "- repeatedly inserts parts from the unsorted list into the correct position in the sorted list\n",
    "- every one of these algorithsm includes 2 indicies which you must keep track of\n",
    "- insertion is just repeated swapping \n",
    "- still O(n^2)\n",
    "- reverse bubble sort?\n",
    "- nearly sorted lists are O(n) with insertion sort\n",
    "    - don't have to make nearly as many comparisons\n",
    "- goes from back -> front"
   ]
  },
  {
   "cell_type": "code",
   "execution_count": 37,
   "id": "9a802dd1",
   "metadata": {},
   "outputs": [
    {
     "name": "stdout",
     "output_type": "stream",
     "text": [
      "[1, 2, 3, 6, 9, 10]\n"
     ]
    }
   ],
   "source": [
    "arr = [9,3,1,6,10,2]\n",
    "\n",
    "# wrong\n",
    "# splitting into two lists\n",
    "#for i in range(len(arr)-1):\n",
    "    #for j in range(i):\n",
    "        #if arr[i] < arr[j]:\n",
    "            #pass\n",
    "\n",
    "#print(arr)\n",
    "\n",
    "for i in range(1,len(arr)):\n",
    "    j = i\n",
    "\n",
    "    while j > 0 and arr[j] < arr[j-1]:\n",
    "        swap(arr,j,j-1)\n",
    "        j = j - 1\n",
    "\n",
    "print(arr)"
   ]
  },
  {
   "cell_type": "markdown",
   "id": "9223e6b8",
   "metadata": {},
   "source": [
    "# Merge Sort\n",
    "- recursivelty sorting\n",
    "- dividing into two halves\n",
    "- O(nlogn)"
   ]
  },
  {
   "cell_type": "code",
   "execution_count": null,
   "id": "d9c0331c",
   "metadata": {},
   "outputs": [],
   "source": [
    "def merge_sort(l):\n",
    "    if len(l) == 1:\n",
    "        return l\n",
    "    half = len(l) // 2\n",
    "    total = merge_sort(l[:half]) + merge_sort(l[half:])\n",
    "    new_list = []\n",
    "    "
   ]
  },
  {
   "cell_type": "code",
   "execution_count": null,
   "id": "51825bb0",
   "metadata": {},
   "outputs": [
    {
     "name": "stdout",
     "output_type": "stream",
     "text": [
      "{'x0': <__main__.Person object at 0x105c78c20>, 'x1': <__main__.Person object at 0x1059679d0>, 'x2': <__main__.Person object at 0x105967c50>, 'x3': <__main__.Person object at 0x105c5b950>, 'x4': <__main__.Person object at 0x105c5b490>}\n"
     ]
    }
   ],
   "source": [
    "# sant a claus sort\n",
    "\n",
    "class Person():\n",
    "    def __init__(self):\n",
    "        pass\n",
    "\n",
    "def sort(l):\n",
    "    d = {}\n",
    "    for i in range(len(l)):\n",
    "        d.update({f\"x{i}\":Person()})\n",
    "    print(d)\n",
    "l = [1,2,3,4,5]\n",
    "sort(l)"
   ]
  }
 ],
 "metadata": {
  "kernelspec": {
   "display_name": "venv (3.13.5)",
   "language": "python",
   "name": "python3"
  },
  "language_info": {
   "codemirror_mode": {
    "name": "ipython",
    "version": 3
   },
   "file_extension": ".py",
   "mimetype": "text/x-python",
   "name": "python",
   "nbconvert_exporter": "python",
   "pygments_lexer": "ipython3",
   "version": "3.13.5"
  }
 },
 "nbformat": 4,
 "nbformat_minor": 5
}
