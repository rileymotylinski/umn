{
 "cells": [
  {
   "cell_type": "markdown",
   "id": "5ac6e367",
   "metadata": {},
   "source": [
    "### Python IO"
   ]
  },
  {
   "cell_type": "code",
   "execution_count": null,
   "id": "55eb478a",
   "metadata": {},
   "outputs": [],
   "source": []
  }
 ],
 "metadata": {
  "kernelspec": {
   "display_name": "venv (3.13.5)",
   "language": "python",
   "name": "python3"
  },
  "language_info": {
   "name": "python",
   "version": "3.13.5"
  }
 },
 "nbformat": 4,
 "nbformat_minor": 5
}
