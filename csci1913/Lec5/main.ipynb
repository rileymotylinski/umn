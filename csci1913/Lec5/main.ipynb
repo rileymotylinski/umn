{
 "cells": [
  {
   "cell_type": "code",
   "execution_count": 2,
   "id": "812715e8",
   "metadata": {},
   "outputs": [],
   "source": [
    "# tuples can store multiple types\n",
    "my_tuple = (1,2,\"3\")\n",
    "# -> return multiple different types from a function\n",
    "# -> pass *args\n",
    "\n"
   ]
  }
 ],
 "metadata": {
  "kernelspec": {
   "display_name": "venv (3.13.5)",
   "language": "python",
   "name": "python3"
  },
  "language_info": {
   "codemirror_mode": {
    "name": "ipython",
    "version": 3
   },
   "file_extension": ".py",
   "mimetype": "text/x-python",
   "name": "python",
   "nbconvert_exporter": "python",
   "pygments_lexer": "ipython3",
   "version": "3.13.5"
  }
 },
 "nbformat": 4,
 "nbformat_minor": 5
}
